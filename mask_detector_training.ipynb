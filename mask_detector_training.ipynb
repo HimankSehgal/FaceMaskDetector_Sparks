{
 "cells": [
  {
   "cell_type": "markdown",
   "metadata": {},
   "source": [
    "# Importing Libraries"
   ]
  },
  {
   "cell_type": "code",
   "execution_count": 1,
   "metadata": {
    "scrolled": true
   },
   "outputs": [
    {
     "name": "stdout",
     "output_type": "stream",
     "text": [
      "Collecting imutils\n",
      "  Downloading imutils-0.5.4.tar.gz (17 kB)\n",
      "Building wheels for collected packages: imutils\n",
      "  Building wheel for imutils (setup.py): started\n",
      "  Building wheel for imutils (setup.py): finished with status 'done'\n",
      "  Created wheel for imutils: filename=imutils-0.5.4-py3-none-any.whl size=25862 sha256=a5513a5e1870cdab3235b7af905b560b7857daa5add5a3a47844423e138e11c5\n",
      "  Stored in directory: c:\\users\\himank\\appdata\\local\\pip\\cache\\wheels\\59\\1b\\52\\0dea905f8278d5514dc4d0be5e251967f8681670cadd3dca89\n",
      "Successfully built imutils\n",
      "Installing collected packages: imutils\n",
      "Successfully installed imutils-0.5.4\n"
     ]
    }
   ],
   "source": [
    "!pip install imutils"
   ]
  },
  {
   "cell_type": "code",
   "execution_count": 11,
   "metadata": {},
   "outputs": [],
   "source": [
    "from tensorflow.keras.preprocessing.image import ImageDataGenerator\n",
    "from tensorflow.keras.applications import MobileNetV2\n",
    "from tensorflow.keras.layers import AveragePooling2D\n",
    "from tensorflow.keras.layers import Dropout\n",
    "from tensorflow.keras.layers import Flatten\n",
    "from tensorflow.keras.layers import Dense\n",
    "from tensorflow.keras.layers import Input\n",
    "from tensorflow.keras.models import Model\n",
    "from tensorflow.keras.optimizers import Adam\n",
    "from tensorflow.keras.applications.mobilenet_v2 import preprocess_input\n",
    "from tensorflow.keras.preprocessing.image import img_to_array\n",
    "from tensorflow.keras.preprocessing.image import load_img\n",
    "from tensorflow.keras.utils import to_categorical\n",
    "from sklearn.preprocessing import LabelBinarizer\n",
    "from sklearn.model_selection import train_test_split\n",
    "from sklearn.metrics import classification_report\n",
    "from imutils import paths\n",
    "import matplotlib.pyplot as plt\n",
    "import numpy as np\n",
    "import argparse\n",
    "import os\n",
    "from tqdm import tqdm"
   ]
  },
  {
   "cell_type": "markdown",
   "metadata": {},
   "source": [
    "# Initialize the initial learning rate, number of epochs to train for, and Batch Size"
   ]
  },
  {
   "cell_type": "code",
   "execution_count": 6,
   "metadata": {},
   "outputs": [],
   "source": [
    "INIT_LR = 1e-4\n",
    "EPOCHS = 20\n",
    "BS = 32"
   ]
  },
  {
   "cell_type": "markdown",
   "metadata": {},
   "source": [
    "# Setting up paths and categories"
   ]
  },
  {
   "cell_type": "code",
   "execution_count": 7,
   "metadata": {},
   "outputs": [],
   "source": [
    "DIRECTORY = r\"C:\\Users\\Himank\\Desktop\\Projects\\Sparks Intern\\data\"\n",
    "CATEGORIES = [\"with_mask\", \"without_mask\"]"
   ]
  },
  {
   "cell_type": "code",
   "execution_count": 8,
   "metadata": {},
   "outputs": [
    {
     "data": {
      "text/plain": [
       "'C:\\\\Users\\\\Himank\\\\Desktop\\\\Projects\\\\Sparks Intern\\\\data'"
      ]
     },
     "execution_count": 8,
     "metadata": {},
     "output_type": "execute_result"
    }
   ],
   "source": [
    "DIRECTORY"
   ]
  },
  {
   "cell_type": "code",
   "execution_count": 12,
   "metadata": {},
   "outputs": [
    {
     "name": "stderr",
     "output_type": "stream",
     "text": [
      "  0%|                                                                                            | 0/2 [00:00<?, ?it/s]\n",
      "  0%|                                                                                          | 0/690 [00:00<?, ?it/s]\u001b[A\n",
      "  3%|██▏                                                                             | 19/690 [00:00<00:03, 189.92it/s]\u001b[A"
     ]
    },
    {
     "name": "stdout",
     "output_type": "stream",
     "text": [
      "[INFO] loading images...\n"
     ]
    },
    {
     "name": "stderr",
     "output_type": "stream",
     "text": [
      "\n",
      "  5%|████▎                                                                           | 37/690 [00:00<00:03, 186.15it/s]\u001b[A\n",
      "  7%|█████▍                                                                          | 47/690 [00:00<00:04, 136.13it/s]\u001b[A\n",
      "  9%|██████▊                                                                         | 59/690 [00:00<00:04, 127.23it/s]\u001b[A\n",
      " 10%|████████▏                                                                       | 71/690 [00:00<00:04, 124.20it/s]\u001b[A\n",
      " 13%|██████████                                                                      | 87/690 [00:00<00:04, 130.89it/s]\u001b[A\n",
      " 14%|███████████▍                                                                    | 99/690 [00:00<00:05, 108.75it/s]\u001b[A\n",
      " 16%|████████████▌                                                                  | 110/690 [00:00<00:05, 108.79it/s]\u001b[A\n",
      " 18%|██████████████▍                                                                | 126/690 [00:00<00:04, 118.80it/s]\u001b[A\n",
      " 22%|█████████████████▎                                                             | 151/690 [00:01<00:03, 140.37it/s]\u001b[A\n",
      " 25%|███████████████████▊                                                           | 173/690 [00:01<00:03, 154.71it/s]\u001b[A\n",
      " 28%|██████████████████████                                                         | 193/690 [00:01<00:03, 165.59it/s]\u001b[A\n",
      " 31%|████████████████████████▏                                                      | 211/690 [00:01<00:03, 133.29it/s]\u001b[A\n",
      " 33%|█████████████████████████▉                                                     | 227/690 [00:01<00:03, 139.86it/s]\u001b[A\n",
      " 35%|███████████████████████████▉                                                   | 244/690 [00:01<00:03, 142.78it/s]\u001b[A\n",
      " 39%|██████████████████████████████▉                                                | 270/690 [00:01<00:02, 162.95it/s]\u001b[A\n",
      " 42%|█████████████████████████████████                                              | 289/690 [00:01<00:02, 155.64it/s]\u001b[A\n",
      " 44%|███████████████████████████████████                                            | 306/690 [00:02<00:02, 139.46it/s]\u001b[A\n",
      " 47%|████████████████████████████████████▉                                          | 323/690 [00:02<00:02, 145.65it/s]\u001b[A\n",
      " 50%|███████████████████████████████████████▏                                       | 342/690 [00:02<00:02, 153.28it/s]\u001b[A\n",
      " 52%|█████████████████████████████████████████                                      | 359/690 [00:02<00:02, 157.44it/s]\u001b[A\n",
      " 54%|███████████████████████████████████████████                                    | 376/690 [00:02<00:02, 140.79it/s]\u001b[A\n",
      " 57%|█████████████████████████████████████████████                                  | 394/690 [00:02<00:01, 150.42it/s]\u001b[A\n",
      " 59%|██████████████████████████████████████████████▉                                | 410/690 [00:02<00:01, 145.76it/s]\u001b[A\n",
      " 62%|█████████████████████████████████████████████████                              | 428/690 [00:02<00:01, 154.56it/s]\u001b[A\n",
      " 64%|██████████████████████████████████████████████████▊                            | 444/690 [00:03<00:01, 143.17it/s]\u001b[A\n",
      " 67%|████████████████████████████████████████████████████▌                          | 459/690 [00:03<00:01, 116.61it/s]\u001b[A\n",
      " 68%|██████████████████████████████████████████████████████                         | 472/690 [00:03<00:01, 115.00it/s]\u001b[A\n",
      " 70%|███████████████████████████████████████████████████████▌                       | 485/690 [00:03<00:02, 100.01it/s]\u001b[A\n",
      " 72%|█████████████████████████████████████████████████████████▌                      | 496/690 [00:03<00:02, 95.16it/s]\u001b[A\n",
      " 73%|██████████████████████████████████████████████████████████▊                     | 507/690 [00:03<00:01, 93.82it/s]\u001b[A\n",
      " 75%|████████████████████████████████████████████████████████████▏                   | 519/690 [00:03<00:01, 99.86it/s]\u001b[A\n",
      " 77%|█████████████████████████████████████████████████████████████                  | 533/690 [00:03<00:01, 107.20it/s]\u001b[A\n",
      " 79%|███████████████████████████████████████████████████████████████▏                | 545/690 [00:04<00:01, 94.39it/s]\u001b[A\n",
      " 81%|████████████████████████████████████████████████████████████████▍               | 556/690 [00:04<00:01, 93.59it/s]\u001b[A\n",
      " 83%|█████████████████████████████████████████████████████████████████▎             | 570/690 [00:04<00:01, 101.33it/s]\u001b[A\n",
      " 85%|██████████████████████████████████████████████████████████████████▉            | 585/690 [00:04<00:00, 110.79it/s]\u001b[A\n",
      " 88%|█████████████████████████████████████████████████████████████████████▎         | 605/690 [00:04<00:00, 127.10it/s]\u001b[A\n",
      " 90%|██████████████████████████████████████████████████████████████████████▉        | 620/690 [00:04<00:00, 133.04it/s]\u001b[A\n",
      " 92%|████████████████████████████████████████████████████████████████████████▋      | 635/690 [00:04<00:00, 130.48it/s]\u001b[A\n",
      " 94%|██████████████████████████████████████████████████████████████████████████▎    | 649/690 [00:04<00:00, 129.54it/s]\u001b[A\n",
      " 96%|████████████████████████████████████████████████████████████████████████████▊   | 663/690 [00:05<00:00, 72.60it/s]\u001b[A\n",
      " 98%|██████████████████████████████████████████████████████████████████████████████▏ | 674/690 [00:05<00:00, 59.89it/s]\u001b[A\n",
      "100%|████████████████████████████████████████████████████████████████████████████████| 690/690 [00:07<00:00, 91.29it/s]\u001b[A\n",
      " 50%|██████████████████████████████████████████                                          | 1/2 [00:07<00:07,  7.56s/it]\n",
      "  0%|                                                                                          | 0/686 [00:00<?, ?it/s]\u001b[A\n",
      "  1%|▊                                                                                 | 7/686 [00:00<00:10, 66.71it/s]\u001b[A\n",
      "  2%|█▎                                                                               | 11/686 [00:00<00:12, 53.33it/s]\u001b[A\n",
      "  2%|█▊                                                                               | 15/686 [00:00<00:14, 44.94it/s]\u001b[A\n",
      "  3%|██▏                                                                              | 19/686 [00:00<00:15, 41.86it/s]\u001b[A\n",
      "  3%|██▋                                                                              | 23/686 [00:00<00:16, 40.28it/s]\u001b[A\n",
      "  4%|███▏                                                                             | 27/686 [00:00<00:17, 37.35it/s]\u001b[A\n",
      "  5%|███▋                                                                             | 31/686 [00:00<00:17, 37.32it/s]\u001b[A\n",
      "  5%|████▏                                                                            | 35/686 [00:00<00:18, 34.37it/s]\u001b[A\n",
      "  6%|████▊                                                                            | 41/686 [00:01<00:17, 37.20it/s]\u001b[A\n",
      "  7%|█████▎                                                                           | 45/686 [00:01<00:17, 36.95it/s]\u001b[A\n",
      "  8%|██████▎                                                                          | 53/686 [00:01<00:14, 43.76it/s]\u001b[A\n",
      " 10%|████████                                                                         | 68/686 [00:01<00:11, 55.37it/s]\u001b[A\n",
      " 11%|████████▉                                                                        | 76/686 [00:01<00:10, 60.21it/s]\u001b[A\n",
      " 12%|██████████                                                                       | 85/686 [00:01<00:09, 65.45it/s]\u001b[A\n",
      " 14%|██████████▉                                                                      | 93/686 [00:01<00:10, 55.18it/s]\u001b[A\n",
      " 15%|███████████▋                                                                    | 100/686 [00:01<00:12, 46.68it/s]\u001b[A\n",
      " 15%|████████████▎                                                                   | 106/686 [00:02<00:12, 45.63it/s]\u001b[A\n",
      " 16%|█████████████                                                                   | 112/686 [00:02<00:12, 44.93it/s]\u001b[A\n",
      " 17%|█████████████▊                                                                  | 118/686 [00:02<00:13, 42.75it/s]\u001b[A\n",
      " 18%|██████████████▎                                                                 | 123/686 [00:02<00:12, 44.69it/s]\u001b[A\n",
      " 19%|███████████████                                                                 | 129/686 [00:02<00:12, 46.15it/s]\u001b[A\n",
      " 20%|███████████████▋                                                                | 134/686 [00:02<00:13, 42.41it/s]\u001b[A\n",
      " 20%|████████████████▏                                                               | 139/686 [00:02<00:13, 40.88it/s]\u001b[A\n",
      " 21%|████████████████▊                                                               | 144/686 [00:03<00:13, 39.87it/s]\u001b[A\n",
      " 22%|█████████████████▍                                                              | 149/686 [00:03<00:13, 38.89it/s]\u001b[A\n",
      " 22%|█████████████████▊                                                              | 153/686 [00:03<00:14, 37.77it/s]\u001b[A\n",
      " 23%|██████████████████▍                                                             | 158/686 [00:03<00:13, 39.08it/s]\u001b[A\n",
      " 24%|███████████████████▏                                                            | 165/686 [00:03<00:12, 43.32it/s]\u001b[A\n",
      " 25%|███████████████████▊                                                            | 170/686 [00:03<00:12, 39.78it/s]\u001b[A\n",
      " 26%|████████████████████▍                                                           | 175/686 [00:03<00:12, 39.58it/s]\u001b[A\n",
      " 26%|████████████████████▉                                                           | 180/686 [00:03<00:13, 38.20it/s]\u001b[A\n",
      " 27%|█████████████████████▍                                                          | 184/686 [00:04<00:12, 38.63it/s]\u001b[A\n",
      " 27%|█████████████████████▉                                                          | 188/686 [00:04<00:13, 36.61it/s]\u001b[A\n",
      " 28%|██████████████████████▍                                                         | 192/686 [00:04<00:13, 36.06it/s]\u001b[A\n",
      " 29%|██████████████████████▊                                                         | 196/686 [00:04<00:13, 36.94it/s]\u001b[A\n",
      " 29%|███████████████████████▎                                                        | 200/686 [00:04<00:13, 35.86it/s]\u001b[A\n",
      " 30%|███████████████████████▊                                                        | 204/686 [00:04<00:13, 35.42it/s]\u001b[A\n",
      " 30%|████████████████████████▎                                                       | 208/686 [00:04<00:13, 35.24it/s]\u001b[A\n",
      " 31%|████████████████████████▋                                                       | 212/686 [00:04<00:13, 35.46it/s]\u001b[A\n",
      " 32%|█████████████████████████▎                                                      | 217/686 [00:04<00:12, 37.25it/s]\u001b[A\n",
      " 32%|█████████████████████████▊                                                      | 221/686 [00:05<00:12, 37.69it/s]\u001b[A\n",
      " 33%|██████████████████████████▌                                                     | 228/686 [00:05<00:10, 42.55it/s]\u001b[A\n",
      " 34%|███████████████████████████▏                                                    | 233/686 [00:05<00:10, 44.27it/s]\u001b[A\n",
      " 35%|███████████████████████████▊                                                    | 238/686 [00:05<00:10, 42.29it/s]\u001b[A\n",
      " 35%|████████████████████████████▎                                                   | 243/686 [00:05<00:10, 42.00it/s]\u001b[A\n",
      " 36%|████████████████████████████▉                                                   | 248/686 [00:05<00:11, 39.07it/s]\u001b[A\n",
      " 37%|█████████████████████████████▌                                                  | 253/686 [00:05<00:11, 39.04it/s]\u001b[A\n",
      " 37%|█████████████████████████████▉                                                  | 257/686 [00:05<00:11, 37.97it/s]\u001b[A\n",
      " 38%|██████████████████████████████▌                                                 | 262/686 [00:06<00:10, 38.90it/s]\u001b[A\n",
      " 39%|███████████████████████████████                                                 | 266/686 [00:06<00:10, 38.47it/s]\u001b[A\n",
      " 39%|███████████████████████████████▍                                                | 270/686 [00:06<00:10, 38.75it/s]\u001b[A\n",
      " 40%|███████████████████████████████▉                                                | 274/686 [00:06<00:10, 37.72it/s]\u001b[A\n",
      " 41%|████████████████████████████████▍                                               | 278/686 [00:06<00:10, 37.68it/s]\u001b[A\n",
      " 41%|████████████████████████████████▉                                               | 282/686 [00:06<00:10, 37.43it/s]\u001b[A\n",
      " 42%|█████████████████████████████████▎                                              | 286/686 [00:06<00:10, 37.55it/s]\u001b[A\n",
      " 43%|██████████████████████████████████                                              | 292/686 [00:06<00:09, 41.79it/s]\u001b[A\n",
      " 43%|██████████████████████████████████▋                                             | 297/686 [00:06<00:09, 39.47it/s]\u001b[A\n",
      " 44%|███████████████████████████████████▏                                            | 302/686 [00:07<00:09, 40.00it/s]\u001b[A\n",
      " 45%|███████████████████████████████████▊                                            | 307/686 [00:07<00:09, 41.97it/s]\u001b[A\n",
      " 45%|████████████████████████████████████▍                                           | 312/686 [00:07<00:09, 40.83it/s]\u001b[A\n",
      " 46%|████████████████████████████████████▉                                           | 317/686 [00:07<00:09, 40.72it/s]\u001b[A\n",
      " 47%|█████████████████████████████████████▋                                          | 323/686 [00:07<00:08, 44.47it/s]\u001b[A\n",
      " 48%|██████████████████████████████████████▌                                         | 331/686 [00:07<00:07, 50.15it/s]\u001b[A\n",
      " 49%|███████████████████████████████████████▌                                        | 339/686 [00:07<00:06, 56.46it/s]\u001b[A\n",
      " 50%|████████████████████████████████████████▎                                       | 346/686 [00:07<00:05, 59.33it/s]\u001b[A\n",
      " 52%|█████████████████████████████████████████▎                                      | 354/686 [00:07<00:05, 62.06it/s]\u001b[A\n",
      " 53%|██████████████████████████████████████████                                      | 361/686 [00:08<00:05, 54.42it/s]\u001b[A\n",
      " 53%|██████████████████████████████████████████▊                                     | 367/686 [00:08<00:06, 48.69it/s]\u001b[A\n",
      " 54%|███████████████████████████████████████████▍                                    | 373/686 [00:08<00:06, 45.80it/s]\u001b[A\n",
      " 55%|████████████████████████████████████████████                                    | 378/686 [00:08<00:06, 44.25it/s]\u001b[A\n",
      " 56%|████████████████████████████████████████████▋                                   | 383/686 [00:08<00:07, 40.72it/s]\u001b[A\n",
      " 57%|█████████████████████████████████████████████▏                                  | 388/686 [00:08<00:07, 40.76it/s]\u001b[A\n",
      " 57%|█████████████████████████████████████████████▉                                  | 394/686 [00:08<00:06, 43.26it/s]\u001b[A\n",
      " 58%|██████████████████████████████████████████████▌                                 | 399/686 [00:09<00:07, 40.88it/s]\u001b[A\n",
      " 59%|███████████████████████████████████████████████                                 | 404/686 [00:09<00:06, 40.36it/s]\u001b[A\n",
      " 60%|███████████████████████████████████████████████▋                                | 409/686 [00:09<00:06, 39.96it/s]\u001b[A\n",
      " 60%|████████████████████████████████████████████████▍                               | 415/686 [00:09<00:06, 44.32it/s]\u001b[A\n",
      " 61%|████████████████████████████████████████████████▉                               | 420/686 [00:09<00:06, 42.29it/s]\u001b[A\n",
      " 62%|█████████████████████████████████████████████████▌                              | 425/686 [00:09<00:06, 41.09it/s]\u001b[A\n",
      " 63%|██████████████████████████████████████████████████▏                             | 430/686 [00:09<00:06, 40.05it/s]\u001b[A\n",
      " 64%|██████████████████████████████████████████████████▊                             | 436/686 [00:09<00:05, 43.16it/s]\u001b[A\n",
      " 64%|███████████████████████████████████████████████████▍                            | 441/686 [00:10<00:05, 43.36it/s]\u001b[A\n",
      " 65%|████████████████████████████████████████████████████                            | 446/686 [00:10<00:06, 39.12it/s]\u001b[A\n",
      " 66%|████████████████████████████████████████████████████▌                           | 451/686 [00:10<00:06, 38.85it/s]\u001b[A\n",
      " 66%|█████████████████████████████████████████████████████                           | 455/686 [00:10<00:06, 38.19it/s]\u001b[A\n",
      " 67%|█████████████████████████████████████████████████████▊                          | 461/686 [00:10<00:05, 41.79it/s]\u001b[A\n",
      " 68%|██████████████████████████████████████████████████████▎                         | 466/686 [00:10<00:05, 40.79it/s]\u001b[A\n"
     ]
    },
    {
     "name": "stderr",
     "output_type": "stream",
     "text": [
      " 69%|██████████████████████████████████████████████████████▉                         | 471/686 [00:10<00:05, 40.13it/s]\u001b[A\n",
      " 69%|███████████████████████████████████████████████████████▌                        | 476/686 [00:10<00:05, 38.92it/s]\u001b[A\n",
      " 70%|███████████████████████████████████████████████████████▉                        | 480/686 [00:11<00:05, 38.14it/s]\u001b[A\n",
      " 71%|████████████████████████████████████████████████████████▍                       | 484/686 [00:11<00:05, 37.23it/s]\u001b[A\n",
      " 71%|████████████████████████████████████████████████████████▉                       | 488/686 [00:11<00:07, 27.95it/s]\u001b[A\n",
      " 72%|█████████████████████████████████████████████████████████▍                      | 492/686 [00:11<00:07, 27.01it/s]\u001b[A\n",
      " 74%|███████████████████████████████████████████████████████████▏                    | 507/686 [00:11<00:05, 35.69it/s]\u001b[A\n",
      " 75%|████████████████████████████████████████████████████████████▏                   | 516/686 [00:11<00:03, 43.37it/s]\u001b[A\n",
      " 76%|█████████████████████████████████████████████████████████████                   | 524/686 [00:11<00:03, 49.04it/s]\u001b[A\n",
      " 78%|██████████████████████████████████████████████████████████████                  | 532/686 [00:12<00:03, 48.66it/s]\u001b[A\n",
      " 79%|██████████████████████████████████████████████████████████████▊                 | 539/686 [00:12<00:03, 45.64it/s]\u001b[A\n",
      " 79%|███████████████████████████████████████████████████████████████▌                | 545/686 [00:12<00:03, 44.85it/s]\u001b[A\n",
      " 80%|████████████████████████████████████████████████████████████████▎               | 551/686 [00:12<00:03, 43.96it/s]\u001b[A\n",
      " 81%|████████████████████████████████████████████████████████████████▊               | 556/686 [00:12<00:02, 44.89it/s]\u001b[A\n",
      " 82%|█████████████████████████████████████████████████████████████████▍              | 561/686 [00:12<00:02, 45.14it/s]\u001b[A\n",
      " 83%|██████████████████████████████████████████████████████████████████              | 566/686 [00:12<00:02, 42.73it/s]\u001b[A\n",
      " 83%|██████████████████████████████████████████████████████████████████▌             | 571/686 [00:12<00:02, 44.22it/s]\u001b[A\n",
      " 84%|███████████████████████████████████████████████████████████████████▏            | 576/686 [00:13<00:02, 43.60it/s]\u001b[A\n",
      " 85%|███████████████████████████████████████████████████████████████████▊            | 581/686 [00:13<00:02, 43.17it/s]\u001b[A\n",
      " 85%|████████████████████████████████████████████████████████████████████▎           | 586/686 [00:13<00:02, 41.56it/s]\u001b[A\n",
      " 86%|█████████████████████████████████████████████████████████████████████▏          | 593/686 [00:13<00:01, 46.63it/s]\u001b[A\n",
      " 87%|█████████████████████████████████████████████████████████████████████▋          | 598/686 [00:13<00:01, 47.34it/s]\u001b[A\n",
      " 88%|██████████████████████████████████████████████████████████████████████▍         | 604/686 [00:13<00:01, 47.25it/s]\u001b[A\n",
      " 89%|███████████████████████████████████████████████████████████████████████         | 609/686 [00:13<00:01, 44.08it/s]\u001b[A\n",
      " 90%|███████████████████████████████████████████████████████████████████████▌        | 614/686 [00:13<00:01, 40.17it/s]\u001b[A\n",
      " 90%|████████████████████████████████████████████████████████████████████████▏       | 619/686 [00:14<00:02, 33.38it/s]\u001b[A\n",
      " 91%|████████████████████████████████████████████████████████████████████████▋       | 623/686 [00:14<00:02, 28.46it/s]\u001b[A\n",
      " 92%|█████████████████████████████████████████████████████████████████████████▎      | 629/686 [00:14<00:01, 33.73it/s]\u001b[A\n",
      " 93%|██████████████████████████████████████████████████████████████████████████▏     | 636/686 [00:14<00:01, 39.37it/s]\u001b[A\n",
      " 93%|██████████████████████████████████████████████████████████████████████████▊     | 641/686 [00:14<00:01, 41.66it/s]\u001b[A\n",
      " 94%|███████████████████████████████████████████████████████████████████████████▍    | 647/686 [00:14<00:00, 45.82it/s]\u001b[A\n",
      " 95%|████████████████████████████████████████████████████████████████████████████▏   | 653/686 [00:14<00:00, 46.13it/s]\u001b[A\n",
      " 96%|████████████████████████████████████████████████████████████████████████████▊   | 659/686 [00:15<00:00, 47.60it/s]\u001b[A\n",
      " 97%|█████████████████████████████████████████████████████████████████████████████▌  | 665/686 [00:15<00:00, 45.36it/s]\u001b[A\n",
      " 98%|██████████████████████████████████████████████████████████████████████████████▏ | 670/686 [00:15<00:00, 36.64it/s]\u001b[A\n",
      " 99%|██████████████████████████████████████████████████████████████████████████████▉ | 677/686 [00:15<00:00, 42.40it/s]\u001b[A\n",
      "100%|████████████████████████████████████████████████████████████████████████████████| 686/686 [00:15<00:00, 43.78it/s]\u001b[A\n",
      "100%|████████████████████████████████████████████████████████████████████████████████████| 2/2 [00:23<00:00, 11.62s/it]\n"
     ]
    }
   ],
   "source": [
    "# grab the list of images in our dataset directory, then initialize\n",
    "# the list of data (i.e., images) and class image\n",
    "print(\"[INFO] loading images...\")\n",
    "\n",
    "data = []\n",
    "labels = []\n",
    "\n",
    "for category in CATEGORIES:\n",
    "    path = os.path.join(DIRECTORY, category)\n",
    "    for img in tqdm(os.listdir(path)):\n",
    "        img_path = os.path.join(path, img)\n",
    "        image = load_img(img_path, target_size=(224, 224))\n",
    "        image = img_to_array(image)\n",
    "        image = preprocess_input(image)\n",
    "\n",
    "        data.append(image)\n",
    "        labels.append(category)\n"
   ]
  },
  {
   "cell_type": "markdown",
   "metadata": {},
   "source": [
    "# Perform one-hot encoding on the labels"
   ]
  },
  {
   "cell_type": "code",
   "execution_count": 13,
   "metadata": {},
   "outputs": [],
   "source": [
    "lb = LabelBinarizer()\n",
    "labels = lb.fit_transform(labels)\n",
    "labels = to_categorical(labels)"
   ]
  },
  {
   "cell_type": "code",
   "execution_count": 14,
   "metadata": {},
   "outputs": [],
   "source": [
    "data = np.array(data, dtype=\"float32\")\n",
    "labels = np.array(labels)"
   ]
  },
  {
   "cell_type": "markdown",
   "metadata": {},
   "source": [
    "# Splitting into train,test"
   ]
  },
  {
   "cell_type": "code",
   "execution_count": 15,
   "metadata": {},
   "outputs": [],
   "source": [
    "(trainX, testX, trainY, testY) = train_test_split(data, labels,\n",
    "                                                  test_size=0.20, stratify=labels, random_state=42)"
   ]
  },
  {
   "cell_type": "code",
   "execution_count": 16,
   "metadata": {},
   "outputs": [],
   "source": [
    "# construct the training image generator for data augmentation\n",
    "aug = ImageDataGenerator(\n",
    "    rotation_range=20,\n",
    "    zoom_range=0.15,\n",
    "    width_shift_range=0.2,\n",
    "    height_shift_range=0.2,\n",
    "    shear_range=0.15,\n",
    "    horizontal_flip=True,\n",
    "    fill_mode=\"nearest\")"
   ]
  },
  {
   "cell_type": "markdown",
   "metadata": {},
   "source": [
    "# Load the MobileNetV2 network, ensuring the head FC layer sets are left off"
   ]
  },
  {
   "cell_type": "code",
   "execution_count": 17,
   "metadata": {},
   "outputs": [
    {
     "name": "stdout",
     "output_type": "stream",
     "text": [
      "WARNING:tensorflow:`input_shape` is undefined or non-square, or `rows` is not in [96, 128, 160, 192, 224]. Weights for input shape (224, 224) will be loaded as the default.\n"
     ]
    },
    {
     "name": "stderr",
     "output_type": "stream",
     "text": [
      "WARNING:tensorflow:`input_shape` is undefined or non-square, or `rows` is not in [96, 128, 160, 192, 224]. Weights for input shape (224, 224) will be loaded as the default.\n"
     ]
    },
    {
     "name": "stdout",
     "output_type": "stream",
     "text": [
      "Downloading data from https://storage.googleapis.com/tensorflow/keras-applications/mobilenet_v2/mobilenet_v2_weights_tf_dim_ordering_tf_kernels_1.0_224_no_top.h5\n",
      "9412608/9406464 [==============================] - 2s 0us/step\n"
     ]
    }
   ],
   "source": [
    "baseModel = MobileNetV2(weights=\"imagenet\", include_top=False,\n",
    "    input_tensor=Input(shape=(224, 224, 3)))\n"
   ]
  },
  {
   "cell_type": "code",
   "execution_count": 18,
   "metadata": {},
   "outputs": [],
   "source": [
    "# construct the head of the model that will be placed on top of the\n",
    "# the base model\n",
    "headModel = baseModel.output\n",
    "headModel = AveragePooling2D(pool_size=(7, 7))(headModel)\n",
    "headModel = Flatten(name=\"flatten\")(headModel)\n",
    "headModel = Dense(128, activation=\"relu\")(headModel)\n",
    "headModel = Dropout(0.5)(headModel)\n",
    "headModel = Dense(2, activation=\"softmax\")(headModel)\n",
    "\n",
    "# place the head FC model on top of the base model (this will become\n",
    "# the actual model we will train)\n",
    "model = Model(inputs=baseModel.input, outputs=headModel)\n",
    "\n",
    "# loop over all layers in the base model and freeze them so they will\n",
    "# *not* be updated during the first training process\n",
    "for layer in baseModel.layers:\n",
    "    layer.trainable = False"
   ]
  },
  {
   "cell_type": "code",
   "execution_count": 19,
   "metadata": {},
   "outputs": [
    {
     "name": "stdout",
     "output_type": "stream",
     "text": [
      "[INFO] compiling model...\n",
      "[INFO] training head...\n",
      "Epoch 1/20\n",
      "34/34 [==============================] - 58s 1s/step - loss: 0.7363 - accuracy: 0.6412 - val_loss: 0.2637 - val_accuracy: 0.9855\n",
      "Epoch 2/20\n",
      "34/34 [==============================] - 49s 1s/step - loss: 0.2952 - accuracy: 0.9491 - val_loss: 0.1235 - val_accuracy: 0.9964\n",
      "Epoch 3/20\n",
      "34/34 [==============================] - 45s 1s/step - loss: 0.1528 - accuracy: 0.9831 - val_loss: 0.0725 - val_accuracy: 0.9928\n",
      "Epoch 4/20\n",
      "34/34 [==============================] - 30s 885ms/step - loss: 0.1023 - accuracy: 0.9866 - val_loss: 0.0517 - val_accuracy: 0.9928\n",
      "Epoch 5/20\n",
      "34/34 [==============================] - 32s 947ms/step - loss: 0.0709 - accuracy: 0.9927 - val_loss: 0.0408 - val_accuracy: 0.9964\n",
      "Epoch 6/20\n",
      "34/34 [==============================] - 30s 893ms/step - loss: 0.0669 - accuracy: 0.9848 - val_loss: 0.0326 - val_accuracy: 0.9928\n",
      "Epoch 7/20\n",
      "34/34 [==============================] - 32s 945ms/step - loss: 0.0475 - accuracy: 0.9895 - val_loss: 0.0280 - val_accuracy: 1.0000\n",
      "Epoch 8/20\n",
      "34/34 [==============================] - 32s 943ms/step - loss: 0.0399 - accuracy: 0.9921 - val_loss: 0.0237 - val_accuracy: 0.9964\n",
      "Epoch 9/20\n",
      "34/34 [==============================] - 31s 908ms/step - loss: 0.0362 - accuracy: 0.9922 - val_loss: 0.0208 - val_accuracy: 0.9964\n",
      "Epoch 10/20\n",
      "34/34 [==============================] - 30s 887ms/step - loss: 0.0238 - accuracy: 0.9987 - val_loss: 0.0191 - val_accuracy: 0.9964\n",
      "Epoch 11/20\n",
      "34/34 [==============================] - 30s 896ms/step - loss: 0.0321 - accuracy: 0.9958 - val_loss: 0.0170 - val_accuracy: 0.9964\n",
      "Epoch 12/20\n",
      "34/34 [==============================] - 31s 895ms/step - loss: 0.0203 - accuracy: 0.9987 - val_loss: 0.0159 - val_accuracy: 0.9964\n",
      "Epoch 13/20\n",
      "34/34 [==============================] - 30s 882ms/step - loss: 0.0274 - accuracy: 0.9934 - val_loss: 0.0149 - val_accuracy: 0.9964\n",
      "Epoch 14/20\n",
      "34/34 [==============================] - 30s 872ms/step - loss: 0.0180 - accuracy: 0.9996 - val_loss: 0.0142 - val_accuracy: 0.9964\n",
      "Epoch 15/20\n",
      "34/34 [==============================] - 30s 872ms/step - loss: 0.0210 - accuracy: 0.9945 - val_loss: 0.0131 - val_accuracy: 0.9964\n",
      "Epoch 16/20\n",
      "34/34 [==============================] - 30s 869ms/step - loss: 0.0228 - accuracy: 0.9958 - val_loss: 0.0123 - val_accuracy: 0.9964\n",
      "Epoch 17/20\n",
      "34/34 [==============================] - 30s 871ms/step - loss: 0.0165 - accuracy: 0.9996 - val_loss: 0.0118 - val_accuracy: 0.9964\n",
      "Epoch 18/20\n",
      "34/34 [==============================] - 30s 876ms/step - loss: 0.0241 - accuracy: 0.9935 - val_loss: 0.0124 - val_accuracy: 1.0000\n",
      "Epoch 19/20\n",
      "34/34 [==============================] - 30s 874ms/step - loss: 0.0178 - accuracy: 0.9967 - val_loss: 0.0121 - val_accuracy: 1.0000\n",
      "Epoch 20/20\n",
      "34/34 [==============================] - 30s 888ms/step - loss: 0.0176 - accuracy: 0.9953 - val_loss: 0.0105 - val_accuracy: 0.9964\n"
     ]
    }
   ],
   "source": [
    "# compile our model\n",
    "print(\"[INFO] compiling model...\")\n",
    "opt = Adam(lr=INIT_LR, decay=INIT_LR / EPOCHS)\n",
    "model.compile(loss=\"binary_crossentropy\", optimizer=opt,\n",
    "\tmetrics=[\"accuracy\"])\n",
    "# train the head of the network\n",
    "print(\"[INFO] training head...\")\n",
    "H = model.fit(\n",
    "    aug.flow(trainX, trainY, batch_size=BS),\n",
    "    steps_per_epoch=len(trainX) // BS,\n",
    "    validation_data=(testX, testY),\n",
    "    validation_steps=len(testX) // BS,\n",
    "    epochs=EPOCHS)"
   ]
  },
  {
   "cell_type": "code",
   "execution_count": 20,
   "metadata": {},
   "outputs": [
    {
     "name": "stdout",
     "output_type": "stream",
     "text": [
      "[INFO] evaluating network...\n"
     ]
    }
   ],
   "source": [
    "# make predictions on the testing set\n",
    "print(\"[INFO] evaluating network...\")\n",
    "predIdxs = model.predict(testX, batch_size=BS)\n"
   ]
  },
  {
   "cell_type": "code",
   "execution_count": 21,
   "metadata": {},
   "outputs": [],
   "source": [
    "# for each image in the testing set we need to find the index of the\n",
    "# label with corresponding largest predicted probability\n",
    "predIdxs = np.argmax(predIdxs, axis=1)"
   ]
  },
  {
   "cell_type": "code",
   "execution_count": 22,
   "metadata": {},
   "outputs": [
    {
     "name": "stdout",
     "output_type": "stream",
     "text": [
      "              precision    recall  f1-score   support\n",
      "\n",
      "   with_mask       1.00      0.99      1.00       138\n",
      "without_mask       0.99      1.00      1.00       138\n",
      "\n",
      "    accuracy                           1.00       276\n",
      "   macro avg       1.00      1.00      1.00       276\n",
      "weighted avg       1.00      1.00      1.00       276\n",
      "\n"
     ]
    }
   ],
   "source": [
    "# show a nicely formatted classification report\n",
    "print(classification_report(testY.argmax(axis=1), predIdxs,\n",
    "    target_names=lb.classes_))"
   ]
  },
  {
   "cell_type": "code",
   "execution_count": 23,
   "metadata": {},
   "outputs": [
    {
     "name": "stdout",
     "output_type": "stream",
     "text": [
      "[INFO] saving mask detector model...\n"
     ]
    }
   ],
   "source": [
    "# serialize the model to disk\n",
    "print(\"[INFO] saving mask detector model...\")\n",
    "model.save(\"mask_detector.model\", save_format=\"h5\")"
   ]
  },
  {
   "cell_type": "code",
   "execution_count": 24,
   "metadata": {},
   "outputs": [
    {
     "data": {
      "image/png": "[encoded data removed]",
      "text/plain": [
       "<Figure size 432x288 with 1 Axes>"
      ]
     },
     "metadata": {},
     "output_type": "display_data"
    }
   ],
   "source": [
    "# plot the training loss and accuracy\n",
    "N = EPOCHS\n",
    "plt.style.use(\"ggplot\")\n",
    "plt.figure()\n",
    "plt.plot(np.arange(0, N), H.history[\"loss\"], label=\"train_loss\")\n",
    "plt.plot(np.arange(0, N), H.history[\"val_loss\"], label=\"val_loss\")\n",
    "plt.plot(np.arange(0, N), H.history[\"accuracy\"], label=\"train_acc\")\n",
    "plt.plot(np.arange(0, N), H.history[\"val_accuracy\"], label=\"val_acc\")\n",
    "plt.title(\"Training Loss and Accuracy\")\n",
    "plt.xlabel(\"Epoch #\")\n",
    "plt.ylabel(\"Loss/Accuracy\")\n",
    "plt.legend(loc=\"lower left\")\n",
    "plt.savefig(\"plot.png\")"
   ]
  },
  {
   "cell_type": "code",
   "execution_count": null,
   "metadata": {},
   "outputs": [],
   "source": []
  }
 ],
 "metadata": {
  "kernelspec": {
   "display_name": "Python 3",
   "language": "python",
   "name": "python3"
  },
  "language_info": {
   "codemirror_mode": {
    "name": "ipython",
    "version": 3
   },
   "file_extension": ".py",
   "mimetype": "text/x-python",
   "name": "python",
   "nbconvert_exporter": "python",
   "pygments_lexer": "ipython3",
   "version": "3.8.5"
  }
 },
 "nbformat": 4,
 "nbformat_minor": 4
}
